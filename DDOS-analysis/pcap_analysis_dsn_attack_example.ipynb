{
 "cells": [
  {
   "cell_type": "markdown",
   "metadata": {},
   "source": [
    "# Analysis of a generic pcap file containing a DNS-based DDoS attack"
   ]
  },
  {
   "cell_type": "code",
   "execution_count": 4,
   "metadata": {
    "pycharm": {
     "is_executing": false
    }
   },
   "outputs": [],
   "source": [
    "import pandas as pd #more info at http://pandas.pydata.org/\n",
    "import numpy as np #more info at http://www.numpy.org/\n",
    "import matplotlib.pyplot as plt #some examples for you at http://matplotlib.org/gallery.html \n",
    "from matplotlib import gridspec #more info at http://matplotlib.org/api/gridspec_api.html\n",
    "import seaborn as sns\n",
    "import warnings\n",
    "from functions import *\n",
    "\n",
    "file = \"../attack.pcap\" # File's path\n",
    "\n",
    "plt.style.use('ggplot') # For improving the visualization style (options: grayscale, bmh, dark_background, ggplot, and fivethirtyeight)\n",
    "%matplotlib inline \n",
    "warnings.filterwarnings('ignore') # To avoid showing annoying warns"
   ]
  },
  {
   "cell_type": "markdown",
   "metadata": {},
   "source": [
    "# Reading the pcap and Writing into a text file"
   ]
  },
  {
   "cell_type": "code",
   "execution_count": 5,
   "metadata": {
    "pycharm": {
     "is_executing": false
    }
   },
   "outputs": [
    {
     "name": "stdout",
     "output_type": "stream",
     "text": [
      "tshark: The file \"../attack.pcap\" appears to have been cut short in the middle of a packet.\r\n"
     ]
    }
   ],
   "source": [
    "# This operation is extremely timing consuming.\n",
    "!tshark -n -r $file -E separator=\\;  -E header=y -T fields \\\n",
    "-e frame.time_epoch \\\n",
    "-e ip.proto \\\n",
    "-e ip.src \\\n",
    "-e ip.dst \\\n",
    "-e udp.srcport \\\n",
    "-e udp.dstport \\\n",
    "-e tcp.srcport \\\n",
    "-e tcp.dstport \\\n",
    "-e frame.len \\\n",
    "-e dns.qry.type \\\n",
    "-e dns.qry.name \\\n",
    "-e dns.resp.name > pcap.txt"
   ]
  },
  {
   "cell_type": "markdown",
   "metadata": {},
   "source": [
    "# Reading the converted pcap file into a pandas dataframe"
   ]
  },
  {
   "cell_type": "code",
   "execution_count": 6,
   "metadata": {},
   "outputs": [
    {
     "data": {
      "text/plain": [
       "122233"
      ]
     },
     "execution_count": 6,
     "metadata": {},
     "output_type": "execute_result"
    }
   ],
   "source": [
    "df = pd.read_csv('pcap.txt', error_bad_lines=False, sep=';')\n",
    "max_count(df) # Maximum amount of records"
   ]
  },
  {
   "cell_type": "markdown",
   "metadata": {},
   "source": [
    "# Using the above functions to convert some columns of the dataframe "
   ]
  },
  {
   "cell_type": "code",
   "execution_count": 7,
   "metadata": {},
   "outputs": [],
   "source": [
    "df['frame.time_epoch']=timestamp2datetime(df['frame.time_epoch'])"
   ]
  },
  {
   "cell_type": "code",
   "execution_count": 8,
   "metadata": {},
   "outputs": [],
   "source": [
    "df['frame.len']=bytes2bits(df['frame.len'])"
   ]
  },
  {
   "cell_type": "markdown",
   "metadata": {},
   "source": [
    "# Showing how the data looks like after the adaptations "
   ]
  },
  {
   "cell_type": "code",
   "execution_count": 9,
   "metadata": {},
   "outputs": [
    {
     "data": {
      "text/html": [
       "<div>\n",
       "<style scoped>\n",
       "    .dataframe tbody tr th:only-of-type {\n",
       "        vertical-align: middle;\n",
       "    }\n",
       "\n",
       "    .dataframe tbody tr th {\n",
       "        vertical-align: top;\n",
       "    }\n",
       "\n",
       "    .dataframe thead th {\n",
       "        text-align: right;\n",
       "    }\n",
       "</style>\n",
       "<table border=\"1\" class=\"dataframe\">\n",
       "  <thead>\n",
       "    <tr style=\"text-align: right;\">\n",
       "      <th></th>\n",
       "      <th>frame.time_epoch</th>\n",
       "      <th>ip.proto</th>\n",
       "      <th>ip.src</th>\n",
       "      <th>ip.dst</th>\n",
       "      <th>udp.srcport</th>\n",
       "      <th>udp.dstport</th>\n",
       "      <th>tcp.srcport</th>\n",
       "      <th>tcp.dstport</th>\n",
       "      <th>frame.len</th>\n",
       "      <th>dns.qry.type</th>\n",
       "      <th>dns.qry.name</th>\n",
       "      <th>dns.resp.name</th>\n",
       "    </tr>\n",
       "  </thead>\n",
       "  <tbody>\n",
       "    <tr>\n",
       "      <th>0</th>\n",
       "      <td>2014-12-22 15:38:42.525944710</td>\n",
       "      <td>1</td>\n",
       "      <td>162.8.125.17</td>\n",
       "      <td>172.31.28.132</td>\n",
       "      <td>NaN</td>\n",
       "      <td>NaN</td>\n",
       "      <td>NaN</td>\n",
       "      <td>NaN</td>\n",
       "      <td>496</td>\n",
       "      <td>NaN</td>\n",
       "      <td>NaN</td>\n",
       "      <td>NaN</td>\n",
       "    </tr>\n",
       "    <tr>\n",
       "      <th>1</th>\n",
       "      <td>2014-12-22 15:38:42.525982140</td>\n",
       "      <td>1</td>\n",
       "      <td>172.31.28.132</td>\n",
       "      <td>162.8.125.17</td>\n",
       "      <td>NaN</td>\n",
       "      <td>NaN</td>\n",
       "      <td>NaN</td>\n",
       "      <td>NaN</td>\n",
       "      <td>496</td>\n",
       "      <td>NaN</td>\n",
       "      <td>NaN</td>\n",
       "      <td>NaN</td>\n",
       "    </tr>\n",
       "    <tr>\n",
       "      <th>2</th>\n",
       "      <td>2014-12-22 15:38:42.648396015</td>\n",
       "      <td>17</td>\n",
       "      <td>172.31.28.132</td>\n",
       "      <td>172.31.0.2</td>\n",
       "      <td>51139.0</td>\n",
       "      <td>53.0</td>\n",
       "      <td>NaN</td>\n",
       "      <td>NaN</td>\n",
       "      <td>824</td>\n",
       "      <td>1.0</td>\n",
       "      <td>ip-172-31-28-132.us-west-2.compute.internal</td>\n",
       "      <td>NaN</td>\n",
       "    </tr>\n",
       "    <tr>\n",
       "      <th>3</th>\n",
       "      <td>2014-12-22 15:38:42.648422003</td>\n",
       "      <td>17</td>\n",
       "      <td>172.31.28.132</td>\n",
       "      <td>172.31.0.2</td>\n",
       "      <td>51139.0</td>\n",
       "      <td>53.0</td>\n",
       "      <td>NaN</td>\n",
       "      <td>NaN</td>\n",
       "      <td>824</td>\n",
       "      <td>28.0</td>\n",
       "      <td>ip-172-31-28-132.us-west-2.compute.internal</td>\n",
       "      <td>NaN</td>\n",
       "    </tr>\n",
       "    <tr>\n",
       "      <th>4</th>\n",
       "      <td>2014-12-22 15:38:42.648628950</td>\n",
       "      <td>17</td>\n",
       "      <td>172.31.0.2</td>\n",
       "      <td>172.31.28.132</td>\n",
       "      <td>53.0</td>\n",
       "      <td>51139.0</td>\n",
       "      <td>NaN</td>\n",
       "      <td>NaN</td>\n",
       "      <td>1312</td>\n",
       "      <td>28.0</td>\n",
       "      <td>ip-172-31-28-132.us-west-2.compute.internal</td>\n",
       "      <td>us-west-2.compute.internal</td>\n",
       "    </tr>\n",
       "  </tbody>\n",
       "</table>\n",
       "</div>"
      ],
      "text/plain": [
       "               frame.time_epoch ip.proto         ip.src         ip.dst  \\\n",
       "0 2014-12-22 15:38:42.525944710        1   162.8.125.17  172.31.28.132   \n",
       "1 2014-12-22 15:38:42.525982140        1  172.31.28.132   162.8.125.17   \n",
       "2 2014-12-22 15:38:42.648396015       17  172.31.28.132     172.31.0.2   \n",
       "3 2014-12-22 15:38:42.648422003       17  172.31.28.132     172.31.0.2   \n",
       "4 2014-12-22 15:38:42.648628950       17     172.31.0.2  172.31.28.132   \n",
       "\n",
       "   udp.srcport  udp.dstport  tcp.srcport  tcp.dstport  frame.len  \\\n",
       "0          NaN          NaN          NaN          NaN        496   \n",
       "1          NaN          NaN          NaN          NaN        496   \n",
       "2      51139.0         53.0          NaN          NaN        824   \n",
       "3      51139.0         53.0          NaN          NaN        824   \n",
       "4         53.0      51139.0          NaN          NaN       1312   \n",
       "\n",
       "   dns.qry.type                                 dns.qry.name  \\\n",
       "0           NaN                                          NaN   \n",
       "1           NaN                                          NaN   \n",
       "2           1.0  ip-172-31-28-132.us-west-2.compute.internal   \n",
       "3          28.0  ip-172-31-28-132.us-west-2.compute.internal   \n",
       "4          28.0  ip-172-31-28-132.us-west-2.compute.internal   \n",
       "\n",
       "                dns.resp.name  \n",
       "0                         NaN  \n",
       "1                         NaN  \n",
       "2                         NaN  \n",
       "3                         NaN  \n",
       "4  us-west-2.compute.internal  "
      ]
     },
     "execution_count": 9,
     "metadata": {},
     "output_type": "execute_result"
    }
   ],
   "source": [
    "show_top(df)"
   ]
  },
  {
   "cell_type": "markdown",
   "metadata": {},
   "source": [
    "<h1 align=\"center\">====================================================================<br> INVESTIGATING THE CHARACTERISTICS OF THE TRACE </h1>"
   ]
  },
  {
   "cell_type": "markdown",
   "metadata": {},
   "source": [
    "## 1.1. Who was the target IP? Which IP was the target of the majority of packets?"
   ]
  },
  {
   "cell_type": "code",
   "execution_count": 10,
   "metadata": {
    "pycharm": {
     "is_executing": false
    }
   },
   "outputs": [
    {
     "data": {
      "text/plain": [
       "172.31.28.132                  120253\n",
       "172.31.0.2                        100\n",
       "61.7.231.225,172.31.28.132         26\n",
       "92.103.90.30,172.31.28.132         26\n",
       "42.112.208.60,172.31.28.132        26\n",
       "Name: ip.dst, dtype: int64"
      ]
     },
     "execution_count": 10,
     "metadata": {},
     "output_type": "execute_result"
    }
   ],
   "source": [
    "ip_dst=df['ip.dst'].value_counts()\n",
    "# Showing only the top ones\n",
    "show_top(ip_dst)"
   ]
  },
  {
   "cell_type": "markdown",
   "metadata": {},
   "source": [
    "## 1.2. Visualizing the distribution of destination IPs and the percentage of packets "
   ]
  },
  {
   "cell_type": "code",
   "execution_count": 11,
   "metadata": {},
   "outputs": [
    {
     "data": {
      "image/png": "[encoded data removed]",
      "text/plain": [
       "<Figure size 288x288 with 1 Axes>"
      ]
     },
     "metadata": {},
     "output_type": "display_data"
    }
   ],
   "source": [
    "fig = plt.figure(figsize=(4,4))\n",
    "\n",
    "ax = plt.subplot2grid((1,1), (0,0))\n",
    "ip_dst.plot(ax=ax,kind='pie', autopct='%1.1f%%', startangle=270, fontsize=10,title=\"Target IP\")\n",
    "ax.set_ylabel(\"\")\n",
    "\n",
    "fig.show()"
   ]
  },
  {
   "cell_type": "markdown",
   "metadata": {},
   "source": [
    "## 1.3. IP which received most packets"
   ]
  },
  {
   "cell_type": "code",
   "execution_count": 12,
   "metadata": {},
   "outputs": [
    {
     "data": {
      "text/plain": [
       "'172.31.28.132'"
      ]
     },
     "execution_count": 12,
     "metadata": {},
     "output_type": "execute_result"
    }
   ],
   "source": [
    "top1_target_ip=ip_dst.index[0]\n",
    "top1_target_ip"
   ]
  },
  {
   "cell_type": "markdown",
   "metadata": {},
   "source": [
    "## 2.1. Which \\16 network the target IP bellongs?"
   ]
  },
  {
   "cell_type": "code",
   "execution_count": 13,
   "metadata": {},
   "outputs": [
    {
     "data": {
      "text/plain": [
       "'172.31'"
      ]
     },
     "execution_count": 13,
     "metadata": {},
     "output_type": "execute_result"
    }
   ],
   "source": [
    "target_network=top1_target_ip.split('.')[0]+'.'+top1_target_ip.split('.')[1]\n",
    "target_network"
   ]
  },
  {
   "cell_type": "markdown",
   "metadata": {},
   "source": [
    "## 3.1. Which IP protocols occurred more in the trace?"
   ]
  },
  {
   "cell_type": "code",
   "execution_count": 14,
   "metadata": {},
   "outputs": [
    {
     "data": {
      "text/plain": [
       "17      120350\n",
       "1,17      1878\n",
       "1            4\n",
       "6            1\n",
       "Name: ip.proto, dtype: int64"
      ]
     },
     "execution_count": 14,
     "metadata": {},
     "output_type": "execute_result"
    }
   ],
   "source": [
    "ip_proto=df['ip.proto'].value_counts()\n",
    "ip_proto.head()"
   ]
  },
  {
   "cell_type": "markdown",
   "metadata": {},
   "source": [
    "## 3.2. Visualizing the distribution of IP protocols"
   ]
  },
  {
   "cell_type": "code",
   "execution_count": 15,
   "metadata": {},
   "outputs": [
    {
     "data": {
      "image/png": "[encoded data removed]",
      "text/plain": [
       "<Figure size 288x288 with 1 Axes>"
      ]
     },
     "metadata": {},
     "output_type": "display_data"
    }
   ],
   "source": [
    "fig = plt.figure(figsize=(4,4))\n",
    "\n",
    "ax = plt.subplot2grid((1,1), (0,0))\n",
    "ip_proto.plot(ax=ax,kind='pie', autopct='%1.1f%%', startangle=270, fontsize=10,title=\"IP Protocols (number)\")\n",
    "ax.set_ylabel(\"\")\n",
    "\n",
    "fig.show()"
   ]
  },
  {
   "cell_type": "markdown",
   "metadata": {},
   "source": [
    "## 3.3. Well, the IP protocol that occurred more was... "
   ]
  },
  {
   "cell_type": "code",
   "execution_count": 16,
   "metadata": {},
   "outputs": [
    {
     "data": {
      "text/plain": [
       "'17'"
      ]
     },
     "execution_count": 16,
     "metadata": {},
     "output_type": "execute_result"
    }
   ],
   "source": [
    "top1_target_ip_proto=ip_proto.index[0]\n",
    "top1_target_ip_proto"
   ]
  },
  {
   "cell_type": "markdown",
   "metadata": {},
   "source": [
    "## 4.1. How is the Distribution of UDP ports for the top 1 (or 2) target IP address(es)?"
   ]
  },
  {
   "cell_type": "code",
   "execution_count": 18,
   "metadata": {},
   "outputs": [
    {
     "data": {
      "text/plain": [
       "37.123.96.179      11126\n",
       "61.93.9.158         8086\n",
       "121.32.89.198       6261\n",
       "89.228.8.86         4831\n",
       "189.90.244.42       4433\n",
       "122.154.73.42       3858\n",
       "60.250.159.61       3842\n",
       "180.180.126.177     3632\n",
       "113.161.106.4       3305\n",
       "200.107.235.46      3268\n",
       "59.154.53.77        3118\n",
       "109.184.1.96        2905\n",
       "61.7.231.225        2806\n",
       "177.69.215.97       2773\n",
       "217.118.186.54      2657\n",
       "92.103.90.30        2642\n",
       "113.161.106.6       2601\n",
       "81.7.86.91          2458\n",
       "175.138.61.51       2426\n",
       "110.77.140.17       2126\n",
       "85.93.44.161        2109\n",
       "113.161.106.2       2105\n",
       "211.138.248.108     2049\n",
       "218.216.183.36      2044\n",
       "80.51.214.183       2042\n",
       "88.85.171.248       2030\n",
       "59.46.49.50         1978\n",
       "109.161.52.1        1843\n",
       "217.15.140.158      1685\n",
       "63.246.239.2        1413\n",
       "                   ...  \n",
       "62.219.141.161       347\n",
       "92.50.0.243          335\n",
       "62.219.208.81        318\n",
       "178.21.237.130       302\n",
       "42.112.208.60        239\n",
       "110.170.116.9        232\n",
       "118.70.197.32        198\n",
       "174.46.39.31         180\n",
       "78.189.16.152        177\n",
       "82.145.62.3          177\n",
       "81.218.147.197       177\n",
       "82.145.62.7          177\n",
       "62.219.116.56        177\n",
       "198.101.213.159      177\n",
       "118.70.197.18        175\n",
       "110.170.116.12       175\n",
       "203.174.167.20       174\n",
       "175.138.67.50        173\n",
       "118.70.197.2         172\n",
       "118.70.197.42        146\n",
       "172.31.0.2           100\n",
       "31.168.112.149        75\n",
       "140.246.17.9          29\n",
       "203.186.108.102       18\n",
       "190.109.221.46        10\n",
       "81.5.178.235           5\n",
       "162.8.125.17           2\n",
       "179.146.137.239        1\n",
       "162.8.125.20           1\n",
       "103.10.230.143         1\n",
       "Name: ip.src, Length: 83, dtype: int64"
      ]
     },
     "execution_count": 18,
     "metadata": {},
     "output_type": "execute_result"
    }
   ],
   "source": [
    "udp_srcip_dstip_top1=df[df['ip.dst']==top1_target_ip]['ip.src'].value_counts()\n",
    "udp_srcport_top1=df[df['ip.dst']==top1_target_ip]['udp.srcport'].value_counts()\n",
    "udp_dstport_top1=df[df['ip.dst']==top1_target_ip]['udp.dstport'].value_counts()\n",
    "\n",
    "udp_srcip_dstip_top1\n",
    "# udp_srcip_dstip_top2=df[df['ip.dst']==top2_target_ip]['ip.src'].value_counts()\n",
    "# udp_srcport_top2=df[df['ip.dst']==top2_target_ip]['udp.srcport'].value_counts()\n",
    "# udp_dstport_top2=df[df['ip.dst']==top2_target_ip]['udp.dstport'].value_counts()"
   ]
  },
  {
   "cell_type": "markdown",
   "metadata": {},
   "source": [
    "## 4.2. Visualizing the distribution of src IPs and the (src and dst) UDP ports"
   ]
  },
  {
   "cell_type": "code",
   "execution_count": 16,
   "metadata": {},
   "outputs": [
    {
     "data": {
      "image/png": "[encoded data removed]",
      "text/plain": [
       "<Figure size 864x432 with 3 Axes>"
      ]
     },
     "metadata": {},
     "output_type": "display_data"
    }
   ],
   "source": [
    "fig = plt.figure(figsize=(12,6))\n",
    "fig.subplots_adjust(wspace=1)\n",
    "\n",
    "ax = plt.subplot2grid((2,3), (0,0))\n",
    "udp_srcip_dstip_top1.plot(kind='pie',ax=ax, autopct='%1.1f%%', startangle=270, fontsize=10,title=\"Source IPs targetting \"+top1_target_ip)\n",
    "ax.set_ylabel(\"\")\n",
    "\n",
    "ax1 = plt.subplot2grid((2,3), (0,1))\n",
    "udp_srcport_top1.plot(kind='pie',ax=ax1, autopct='%1.1f%%', startangle=270, fontsize=10,title=\"Source UDP Ports Distribution\")\n",
    "ax1.set_ylabel(\"\")\n",
    "\n",
    "ax2 = plt.subplot2grid((2,3), (0,2))\n",
    "udp_dstport_top1.plot(kind='pie',ax=ax2, autopct='%1.1f%%', startangle=270, fontsize=10,title=\"Destination UDP Ports Distribution\")\n",
    "ax2.set_ylabel(\"\")\n",
    "\n",
    "# ax3 = plt.subplot2grid((2,3), (1,0))\n",
    "# udp_srcip_dstip_top2.plot(kind='pie',ax=ax3, autopct='%1.1f%%', startangle=270, fontsize=10,title=\"Source IPs targetting \"+top2_target_ip)\n",
    "# ax3.set_ylabel(\"\")\n",
    "\n",
    "# ax4 = plt.subplot2grid((2,3), (1,1))\n",
    "# udp_srcport_top2.plot(kind='pie',ax=ax4, autopct='%1.1f%%', startangle=270, fontsize=10,title=\"Source UDP Ports Distribution\")\n",
    "# ax4.set_ylabel(\"\")\n",
    "\n",
    "# ax5 = plt.subplot2grid((2,3), (1,2))\n",
    "# udp_dstport_top2.plot(kind='pie',ax=ax5, autopct='%1.1f%%', startangle=270, fontsize=10,title=\"Destination UDP Ports Distribution\")\n",
    "# ax5.set_ylabel(\"\")\n",
    "\n",
    "fig.show()"
   ]
  },
  {
   "cell_type": "markdown",
   "metadata": {},
   "source": [
    "<h1 align='center'> !!!!!!!!!!!!!!!!!!!!!!!!<br>\n",
    "DO THE FOLLOWING ONLY IF THE TOP SRC PORT WAS 53 (DNS)</h1>"
   ]
  },
  {
   "cell_type": "markdown",
   "metadata": {},
   "source": [
    "## 5.1. What were the DNS queries used in the attack?"
   ]
  },
  {
   "cell_type": "code",
   "execution_count": 35,
   "metadata": {},
   "outputs": [
    {
     "data": {
      "text/plain": [
       "bls.gov         24374\n",
       "nlhosting.nl    17918\n",
       "sandia.gov      15805\n",
       "isc.org         12504\n",
       "verisign.com    10500\n",
       "Name: dns.qry.name, dtype: int64"
      ]
     },
     "execution_count": 35,
     "metadata": {},
     "output_type": "execute_result"
    }
   ],
   "source": [
    "occurrence_dnsquery=df['dns.qry.name'].value_counts()\n",
    "occurrence_dnsquery.head()"
   ]
  },
  {
   "cell_type": "markdown",
   "metadata": {},
   "source": [
    "## 5.2. Visualizing the distribution of DNS queries"
   ]
  },
  {
   "cell_type": "code",
   "execution_count": 18,
   "metadata": {},
   "outputs": [
    {
     "data": {
      "image/png": "[encoded data removed]",
      "text/plain": [
       "<Figure size 288x288 with 1 Axes>"
      ]
     },
     "metadata": {},
     "output_type": "display_data"
    }
   ],
   "source": [
    "fig = plt.figure(figsize=(4,4))\n",
    "ax = plt.subplot2grid((1,1), (0,0))\n",
    "occurrence_dnsquery.plot(kind='barh',ax=ax, fontsize=10, title=\"DNS query\")\n",
    "ax.set_ylabel(\"\")\n",
    "\n",
    "fig.show()"
   ]
  },
  {
   "cell_type": "markdown",
   "metadata": {},
   "source": [
    "## 5.3. Well, considering that only the top 1 DNS query was used in the attack... "
   ]
  },
  {
   "cell_type": "code",
   "execution_count": 19,
   "metadata": {},
   "outputs": [
    {
     "data": {
      "text/plain": [
       "'bls.gov'"
      ]
     },
     "execution_count": 19,
     "metadata": {},
     "output_type": "execute_result"
    }
   ],
   "source": [
    "top_dnsquery=occurrence_dnsquery.index[0]\n",
    "top_dnsquery"
   ]
  },
  {
   "cell_type": "markdown",
   "metadata": {},
   "source": [
    "## 6.1. What was the greatest frame length that the DNS query used on the attack had? (i.e., which generated the greatest amplification factor)"
   ]
  },
  {
   "cell_type": "code",
   "execution_count": 20,
   "metadata": {},
   "outputs": [
    {
     "data": {
      "text/plain": [
       "31656"
      ]
     },
     "execution_count": 20,
     "metadata": {},
     "output_type": "execute_result"
    }
   ],
   "source": [
    "max(df['frame.len'][df['dns.qry.name']==top_dnsquery])"
   ]
  },
  {
   "cell_type": "markdown",
   "metadata": {},
   "source": [
    "<h1 align='center'> !!!!! 7.1. VERY IMPORTANT !!!!!<br>\n",
    "Defining ONLY the main attack records<br>(attention to the others commented types of attacks)</h1>"
   ]
  },
  {
   "cell_type": "code",
   "execution_count": 21,
   "metadata": {},
   "outputs": [],
   "source": [
    "# MANUAL SELECTION: Considering the attack from ONE to ONE port!!!\n",
    "attack_records=df[df['ip.dst']==top1_target_ip]\\\n",
    "                [df['ip.src'].str.contains(target_network)==False]\\\n",
    "                [df['ip.proto']==top1_target_ip_proto]\\\n",
    "                [df['udp.srcport']==udp_srcport_top1.index[0]]\\\n",
    "                [df['udp.dstport']==udp_dstport_top1.index[0]]\n",
    "\n",
    "# # MANUAL SELECTION: Considering the attack from ONE to MANY ports!!!\n",
    "# attack_records=df[df['ip.dst']==top1_target_ip]\\\n",
    "#                 [df['ip.src'].str.contains(target_network)==False]\\\n",
    "#                 [df['ip.proto']==top1_target_ip_proto]\\\n",
    "#                 [df['udp.srcport']==udp_srcport_top1.index[0]]\\\n",
    "#                 [df['dns.qry.name'].str.contains(top_dnsquery)==True]\n",
    "                \n",
    "# # MANUAL SELECTION: Considering the attack from MANY to ONE port!!!\n",
    "# attack_records=df[df['ip.dst']==top1_target_ip]\\\n",
    "#                 [df['ip.src'].str.contains(target_network)==False]\\\n",
    "#                 [df['ip.proto']==top1_target_ip_proto]\\\n",
    "#                 [df['udp.dstport']==udp_dstport_top1.index[0]]\\\n",
    "#                 [df['dns.qry.name'].str.contains(top_dnsquery)==True]\n",
    "\n",
    "# # MANUAL SELECTION: Considering the attack from MANY to MANY portS!!!\n",
    "# attack_records=df[df['ip.dst']==top1_target_ip]\\\n",
    "#                 [df['ip.src'].str.contains(target_network)==False]\\\n",
    "#                 [df['ip.proto']==top1_target_ip_proto]\\\n",
    "#                 [df['udp.srcport']==udp_srcport_top1.index[0]]\\\n",
    "#                 [df['udp.dstport']==udp_dstport_top1.index[0]]\\\n",
    "#                 [df['dns.qry.name'].str.contains(top_dnsquery)==True]\n",
    "\n",
    "remaining_records=df[~df.isin(attack_records)]\n"
   ]
  },
  {
   "cell_type": "markdown",
   "metadata": {},
   "source": [
    "## 8.1. Generating a time series of the attack and the remaining traffic"
   ]
  },
  {
   "cell_type": "code",
   "execution_count": 22,
   "metadata": {},
   "outputs": [],
   "source": [
    "overall_bps=df.set_index(['frame.time_epoch']).groupby(pd.TimeGrouper(freq='S')).agg(['sum'])['frame.len']\n",
    "attack_bps=attack_records.set_index(['frame.time_epoch']).groupby(pd.TimeGrouper(freq='S')).agg(['sum'])['frame.len']\n",
    "attack_bps_median=attack_bps.median()\n",
    "attack_bps_peak=max(attack_bps['sum'])\n",
    "\n",
    "remaining_bps=remaining_records.set_index(['frame.time_epoch']).groupby(pd.TimeGrouper(freq='S')).agg(['sum'])['frame.len']"
   ]
  },
  {
   "cell_type": "markdown",
   "metadata": {},
   "source": [
    "## 8.2. Visualizing the time series "
   ]
  },
  {
   "cell_type": "code",
   "execution_count": 23,
   "metadata": {},
   "outputs": [
    {
     "data": {
      "image/png": "[encoded data removed]",
      "text/plain": [
       "<Figure size 864x288 with 1 Axes>"
      ]
     },
     "metadata": {},
     "output_type": "display_data"
    }
   ],
   "source": [
    "fig = plt.figure(figsize=(12,4))\n",
    "\n",
    "ax = plt.subplot2grid((1,1), (0,0))\n",
    "\n",
    "attack_bps.plot(ax=ax, lw=1)\n",
    "ax.fill_between(attack_bps.index, 0, attack_bps['sum'],color='r')\n",
    "\n",
    "ax.annotate(str(attack_bps_peak/10e5)+' Mb/s [peak]', (str(attack_bps[attack_bps['sum'] == attack_bps_peak].index.values[0]), attack_bps_peak),\n",
    "             xytext=(0, 0), textcoords='offset points')\n",
    "ax.annotate(str(attack_bps_median[0]/10e5)+' Mb/s [median]', (str(attack_bps.index.values[0]), attack_bps_median),\n",
    "             xytext=(90, 0), textcoords='offset points')\n",
    "\n",
    "remaining_bps.plot(ax=ax)\n",
    "\n",
    "ax.legend(['Attacks records','Remaining records'])\n",
    "ax.set_ylabel(\"Data [bit]\")\n",
    "ax.set_xlabel(\"Time [second]\")\n",
    "\n",
    "fig.show()"
   ]
  },
  {
   "cell_type": "markdown",
   "metadata": {},
   "source": [
    "## 9.1. How many records in the entire trace, attack records, and remaining records? "
   ]
  },
  {
   "cell_type": "code",
   "execution_count": 24,
   "metadata": {},
   "outputs": [
    {
     "ename": "SyntaxError",
     "evalue": "invalid syntax (<ipython-input-24-6babf1fd8156>, line 1)",
     "output_type": "error",
     "traceback": [
      "\u001b[0;36m  File \u001b[0;32m\"<ipython-input-24-6babf1fd8156>\"\u001b[0;36m, line \u001b[0;32m1\u001b[0m\n\u001b[0;31m    print 'Records:', len(df),'records (100%),',len(attack_records),'attack records (',len(attack_records)*100/len(df),'%)',',', len(df)-len(attack_records),'remaining records (',(len(df)-len(attack_records))*100/len(df),'% )'\u001b[0m\n\u001b[0m                   ^\u001b[0m\n\u001b[0;31mSyntaxError\u001b[0m\u001b[0;31m:\u001b[0m invalid syntax\n"
     ]
    }
   ],
   "source": [
    "print 'Records:', len(df),'records (100%),',len(attack_records),'attack records (',len(attack_records)*100/len(df),'%)',',', len(df)-len(attack_records),'remaining records (',(len(df)-len(attack_records))*100/len(df),'% )'"
   ]
  },
  {
   "cell_type": "markdown",
   "metadata": {},
   "source": [
    "## 10.1. What is the duration of the entire trace and the attack part? "
   ]
  },
  {
   "cell_type": "code",
   "execution_count": 25,
   "metadata": {},
   "outputs": [
    {
     "ename": "SyntaxError",
     "evalue": "invalid syntax (<ipython-input-25-a6984f19f72e>, line 1)",
     "output_type": "error",
     "traceback": [
      "\u001b[0;36m  File \u001b[0;32m\"<ipython-input-25-a6984f19f72e>\"\u001b[0;36m, line \u001b[0;32m1\u001b[0m\n\u001b[0;31m    print 'Trace duration:',max(df['frame.time_epoch'])-min(df['frame.time_epoch'])\u001b[0m\n\u001b[0m                          ^\u001b[0m\n\u001b[0;31mSyntaxError\u001b[0m\u001b[0;31m:\u001b[0m invalid syntax\n"
     ]
    }
   ],
   "source": [
    "print 'Trace duration:',max(df['frame.time_epoch'])-min(df['frame.time_epoch'])\n",
    "print 'Attack duration:',max(attack_records['frame.time_epoch'])-min(attack_records['frame.time_epoch'])"
   ]
  },
  {
   "cell_type": "markdown",
   "metadata": {},
   "source": [
    "## 11.1. How many (source) IPs were involved in the attack?"
   ]
  },
  {
   "cell_type": "code",
   "execution_count": 26,
   "metadata": {},
   "outputs": [
    {
     "data": {
      "text/plain": [
       "79"
      ]
     },
     "execution_count": 26,
     "metadata": {},
     "output_type": "execute_result"
    }
   ],
   "source": [
    "len(attack_records['ip.src'].unique())"
   ]
  },
  {
   "cell_type": "markdown",
   "metadata": {},
   "source": [
    "## 12.1. What are the top 5 IP addresses that sent more packets?"
   ]
  },
  {
   "cell_type": "code",
   "execution_count": 27,
   "metadata": {},
   "outputs": [
    {
     "data": {
      "text/plain": [
       "189.90.244.42     4433\n",
       "89.228.8.86       4831\n",
       "121.32.89.198     6261\n",
       "61.93.9.158       8086\n",
       "37.123.96.179    11126\n",
       "Name: ip.src, dtype: int64"
      ]
     },
     "execution_count": 27,
     "metadata": {},
     "output_type": "execute_result"
    }
   ],
   "source": [
    "top5_srcips_pkts=attack_records['ip.src'].value_counts().head(5).sort_values()\n",
    "top5_srcips_pkts"
   ]
  },
  {
   "cell_type": "markdown",
   "metadata": {},
   "source": [
    "## 12.2. Visualizing the top 5 IP addresses that sent more packets"
   ]
  },
  {
   "cell_type": "code",
   "execution_count": 28,
   "metadata": {},
   "outputs": [
    {
     "data": {
      "image/png": "[encoded data removed]",
      "text/plain": [
       "<Figure size 432x288 with 1 Axes>"
      ]
     },
     "metadata": {},
     "output_type": "display_data"
    }
   ],
   "source": [
    "fig = plt.figure()\n",
    "ax = plt.subplot2grid((1,1), (0,0))\n",
    "top5_srcips_pkts.plot(kind='barh')\n",
    "ax.set_ylabel(\"Source IP\")\n",
    "ax.set_xlabel(\"Packets\")\n",
    "\n",
    "fig.show()"
   ]
  },
  {
   "cell_type": "markdown",
   "metadata": {},
   "source": [
    "## 13.1. What are the top 5 IP addresses that sent more attack data?"
   ]
  },
  {
   "cell_type": "code",
   "execution_count": 29,
   "metadata": {},
   "outputs": [
    {
     "data": {
      "text/html": [
       "<div>\n",
       "<style scoped>\n",
       "    .dataframe tbody tr th:only-of-type {\n",
       "        vertical-align: middle;\n",
       "    }\n",
       "\n",
       "    .dataframe tbody tr th {\n",
       "        vertical-align: top;\n",
       "    }\n",
       "\n",
       "    .dataframe thead th {\n",
       "        text-align: right;\n",
       "    }\n",
       "</style>\n",
       "<table border=\"1\" class=\"dataframe\">\n",
       "  <thead>\n",
       "    <tr style=\"text-align: right;\">\n",
       "      <th></th>\n",
       "      <th>sum</th>\n",
       "    </tr>\n",
       "    <tr>\n",
       "      <th>ip.src</th>\n",
       "      <th></th>\n",
       "    </tr>\n",
       "  </thead>\n",
       "  <tbody>\n",
       "    <tr>\n",
       "      <th>37.123.96.179</th>\n",
       "      <td>290276352</td>\n",
       "    </tr>\n",
       "    <tr>\n",
       "      <th>61.93.9.158</th>\n",
       "      <td>196340544</td>\n",
       "    </tr>\n",
       "    <tr>\n",
       "      <th>121.32.89.198</th>\n",
       "      <td>114598400</td>\n",
       "    </tr>\n",
       "    <tr>\n",
       "      <th>189.90.244.42</th>\n",
       "      <td>106533112</td>\n",
       "    </tr>\n",
       "    <tr>\n",
       "      <th>60.250.159.61</th>\n",
       "      <td>89142944</td>\n",
       "    </tr>\n",
       "  </tbody>\n",
       "</table>\n",
       "</div>"
      ],
      "text/plain": [
       "                     sum\n",
       "ip.src                  \n",
       "37.123.96.179  290276352\n",
       "61.93.9.158    196340544\n",
       "121.32.89.198  114598400\n",
       "189.90.244.42  106533112\n",
       "60.250.159.61   89142944"
      ]
     },
     "execution_count": 29,
     "metadata": {},
     "output_type": "execute_result"
    }
   ],
   "source": [
    "top5_srcips_bits=attack_records.groupby('ip.src').agg(['sum'])['frame.len'].sort_values('sum',ascending=False).head(5).sort_values('sum', ascending=False)\n",
    "top5_srcips_bits"
   ]
  },
  {
   "cell_type": "markdown",
   "metadata": {},
   "source": [
    "## 13.2. Visualizing the top 5 IP addresses that sent more attack data"
   ]
  },
  {
   "cell_type": "code",
   "execution_count": 30,
   "metadata": {},
   "outputs": [
    {
     "data": {
      "image/png": "[encoded data removed]",
      "text/plain": [
       "<Figure size 432x288 with 1 Axes>"
      ]
     },
     "metadata": {},
     "output_type": "display_data"
    }
   ],
   "source": [
    "fig = plt.figure()\n",
    "ax = plt.subplot2grid((1,1), (0,0))\n",
    "top5_srcips_bits.plot(kind='barh',ax=ax,legend=False)\n",
    "ax.set_ylabel(\"Source IP\")\n",
    "ax.set_xlabel(\"Bits\")\n",
    "\n",
    "fig.show()"
   ]
  },
  {
   "cell_type": "markdown",
   "metadata": {},
   "source": [
    "## 13.3. Well, the top 1 Source IP was ..."
   ]
  },
  {
   "cell_type": "code",
   "execution_count": 31,
   "metadata": {},
   "outputs": [
    {
     "data": {
      "text/plain": [
       "'37.123.96.179'"
      ]
     },
     "execution_count": 31,
     "metadata": {},
     "output_type": "execute_result"
    }
   ],
   "source": [
    "top1_srcips_bits = top5_srcips_bits.index[0]\n",
    "top1_srcips_bits "
   ]
  },
  {
   "cell_type": "markdown",
   "metadata": {},
   "source": [
    "## 14.1. In which country the top 1 source IP address is located?"
   ]
  },
  {
   "cell_type": "code",
   "execution_count": 32,
   "metadata": {},
   "outputs": [
    {
     "ename": "SyntaxError",
     "evalue": "invalid syntax (<ipython-input-32-68553201aa08>, line 4)",
     "output_type": "error",
     "traceback": [
      "\u001b[0;36m  File \u001b[0;32m\"<ipython-input-32-68553201aa08>\"\u001b[0;36m, line \u001b[0;32m4\u001b[0m\n\u001b[0;31m    print p.communicate()[0]\u001b[0m\n\u001b[0m          ^\u001b[0m\n\u001b[0;31mSyntaxError\u001b[0m\u001b[0;31m:\u001b[0m invalid syntax\n"
     ]
    }
   ],
   "source": [
    "import subprocess\n",
    "p = subprocess.Popen(['whois', '-h', 'whois.cymru.com','\\\"', '-v',top1_srcips_bits,'\\\"' ], stdout=subprocess.PIPE)\n",
    "\n",
    "p.communicate()[0]"
   ]
  }
 ],
 "metadata": {
  "kernelspec": {
   "display_name": "Python 3",
   "language": "python",
   "name": "python3"
  },
  "language_info": {
   "codemirror_mode": {
    "name": "ipython",
    "version": 3
   },
   "file_extension": ".py",
   "mimetype": "text/x-python",
   "name": "python",
   "nbconvert_exporter": "python",
   "pygments_lexer": "ipython3",
   "version": "3.7.0"
  },
  "pycharm": {
   "stem_cell": {
    "cell_type": "raw",
    "metadata": {
     "collapsed": false
    },
    "source": []
   }
  }
 },
 "nbformat": 4,
 "nbformat_minor": 1
}
